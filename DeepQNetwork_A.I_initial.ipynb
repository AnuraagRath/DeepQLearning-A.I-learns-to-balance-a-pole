{
 "cells": [
  {
   "cell_type": "markdown",
   "id": "530a112f-89af-47a0-9d32-b5927421e635",
   "metadata": {},
   "source": [
    "# Python packages"
   ]
  },
  {
   "cell_type": "code",
   "execution_count": 1,
   "id": "85199cb1-0756-4acb-9924-ff67c47d5541",
   "metadata": {},
   "outputs": [],
   "source": [
    "%matplotlib inline\n",
    "import gym\n",
    "import random\n",
    "import math\n",
    "import numpy as np\n",
    "import matplotlib\n",
    "import matplotlib.pyplot as plt\n",
    "from collections import namedtuple\n",
    "from itertools import count\n",
    "from PIL import Image\n",
    "import torch\n",
    "import torch.nn as nn\n",
    "import torch.optim as optim\n",
    "import torch.nn.functional as F\n",
    "import torchvision.transforms as T"
   ]
  },
  {
   "cell_type": "code",
   "execution_count": 2,
   "id": "c36fdcc6-6fb2-45ea-835d-c4348b26d1b3",
   "metadata": {},
   "outputs": [],
   "source": [
    "isIPython = 'inline' in matplotlib.get_backend()\n",
    "if isIPython: from IPython import display"
   ]
  },
  {
   "cell_type": "markdown",
   "id": "c5155dd3-53ba-4459-906d-342063cce577",
   "metadata": {},
   "source": [
    "# Deep Q Network"
   ]
  },
  {
   "cell_type": "code",
   "execution_count": 3,
   "id": "ddb1dba1-8614-40b8-9eaa-ff34b2dd7480",
   "metadata": {},
   "outputs": [],
   "source": [
    "class DQN(nn.Module):\n",
    "    def __init__(self, imgHeight, imgWidth):\n",
    "        super().__init__()\n",
    "        self.fullyConnectedLayer1 = nn.Linear(in_features=imgHeight*imgWidth*3, out_features=24)\n",
    "        self.fullyConnectedLayer2 = nn.Linear(in_features=24, out_features=32)\n",
    "        self.outputLayer = nn.Linear(in_features=32, out_features=2)\n",
    "        \n",
    "    def forward(self, t):\n",
    "        t = t.flatten(start_dim=1)\n",
    "        t = F.relu(self.fullyConnectedLayer1(t))\n",
    "        t = F.relu(self.fullyConnectedLayer2(t))\n",
    "        t = F.relu(self.outputLayer(t))\n",
    "        return t"
   ]
  },
  {
   "cell_type": "markdown",
   "id": "e92d124d-f4b3-416b-9ca3-a3d1a3a0d037",
   "metadata": {},
   "source": [
    "# Experiences "
   ]
  },
  {
   "cell_type": "code",
   "execution_count": 4,
   "id": "9b697c04-c913-4e74-9a6b-49f53b31d852",
   "metadata": {},
   "outputs": [],
   "source": [
    "Experience = namedtuple(\n",
    "    'Experience',\n",
    "    ('state', 'action', 'nextState','reward')\n",
    ")"
   ]
  },
  {
   "cell_type": "code",
   "execution_count": 5,
   "id": "7087463a-b362-4fd4-9559-8b3ecf13c4e6",
   "metadata": {},
   "outputs": [
    {
     "data": {
      "text/plain": [
       "Experience(state=2, action=3, nextState=1, reward=4)"
      ]
     },
     "execution_count": 5,
     "metadata": {},
     "output_type": "execute_result"
    }
   ],
   "source": [
    "e = Experience(2,3,1,4)\n",
    "e"
   ]
  },
  {
   "cell_type": "markdown",
   "id": "4e20b9b5-9b13-49e7-a43e-c85ef799c2b6",
   "metadata": {},
   "source": [
    "# Replay Memory"
   ]
  },
  {
   "cell_type": "code",
   "execution_count": 6,
   "id": "02c3d400-74c5-4433-8b75-87621626a8bb",
   "metadata": {},
   "outputs": [],
   "source": [
    "class ReplayMemory():\n",
    "    def __init__(self, capacity):\n",
    "        self.capacity = capacity\n",
    "        self.memory = []\n",
    "        self.pushCount = 0\n",
    "        \n",
    "    def push(self, experience):\n",
    "        if len(self.memory) < self.capacity:\n",
    "            self.memory.append(experience)\n",
    "        else:\n",
    "            self.memory[self.pushCount % self.capacity] = experience\n",
    "        self.pushCount += 1\n",
    "        \n",
    "    def sample(self, batch):\n",
    "        return random.sample(self.memory, batchSize)\n",
    "    \n",
    "    def canProvideSample(self, batchSize):\n",
    "        return len(self.memory) >= batchSize"
   ]
  },
  {
   "cell_type": "markdown",
   "id": "fd773ef9-540c-4025-812e-ca19f1e429b6",
   "metadata": {},
   "source": [
    "# Epsilon Greedy Strategy"
   ]
  },
  {
   "cell_type": "code",
   "execution_count": 7,
   "id": "b1dc414d-5a07-4d27-a760-e94629fce7fe",
   "metadata": {},
   "outputs": [],
   "source": [
    "class EpsilonGreedyStrategy():\n",
    "    def __init__(self, start, end, decay):\n",
    "        self.start = start\n",
    "        self.end = end\n",
    "        self.decay = decay\n",
    "        \n",
    "    def getExplorationRate(self, currentStep):\n",
    "        return self.end + (self.start - self.end) * math.exp(-1. * currentStep * self.decay)"
   ]
  },
  {
   "cell_type": "markdown",
   "id": "2d71f969-6198-4f17-b79d-d7826041cd84",
   "metadata": {},
   "source": [
    "# Reinforcement Learning Agent"
   ]
  },
  {
   "cell_type": "code",
   "execution_count": 8,
   "id": "a90542f0-587c-4fdd-bb34-431207ec5ba4",
   "metadata": {},
   "outputs": [],
   "source": [
    "class Agent():\n",
    "    def __init__(self, strategy, numActions, device):\n",
    "        self.currentStep = 0\n",
    "        self.strategy = strategy\n",
    "        self.numActions = numActions\n",
    "        self.device = device\n",
    "        \n",
    "    def selectAction(self, state, policyNet):\n",
    "        rate = strategy.getExplorationRate(self.currentStep)\n",
    "        self.currentStep += 1\n",
    "        \n",
    "        if rate > random.random():\n",
    "            action = random.randrange(self.numActions)\n",
    "            return torch.tensor([action]).to(self.device)\n",
    "        else:\n",
    "            with torch.no_grad():\n",
    "                return policyNet(state).argmax(dim=1).to(self.device)\n",
    "        "
   ]
  },
  {
   "cell_type": "markdown",
   "id": "ec99290c-642a-4cc8-a7a1-2259b7ca650d",
   "metadata": {},
   "source": [
    "# Environment Manager"
   ]
  },
  {
   "cell_type": "code",
   "execution_count": 9,
   "id": "d22efea5-7d5e-439b-b285-ab7c09ddd554",
   "metadata": {},
   "outputs": [],
   "source": [
    "class CartPoleEnvManager():\n",
    "    def __init__(self, device):\n",
    "        self.device = device\n",
    "        self.env = gym.make('CartPole-v0').unwrapped\n",
    "        self.env.reset()\n",
    "        self.currentScreen = None\n",
    "        self.done = False\n",
    "        \n",
    "    def reset(self):\n",
    "        self.env.reset()\n",
    "        self.current_screen = None\n",
    "        \n",
    "    def close(self):\n",
    "        self.env.close\n",
    "        \n",
    "    def render(self, mode = 'human'):\n",
    "        return self.env.render(mode)\n",
    "    \n",
    "    def numActionsAvailable(self):\n",
    "        return self.env.action_space.n\n",
    "    \n",
    "    def takeAction(self, action):\n",
    "        _, reward, self.done, _ = self.env.step(action.item())\n",
    "        return torch.tensor([reward], device = self.device)\n",
    "    \n",
    "    def justStarting(self):\n",
    "        return self.currentScreen is None\n",
    "    \n",
    "    def getState(self):\n",
    "        if self.justStarting() or self.done:\n",
    "            self.currentScreen = self.getProcessedScreen()\n",
    "            black_screen = torch.zeros_like(self.currentScreen)\n",
    "            return black_screen\n",
    "        else:\n",
    "            s1 = self.currentScreen\n",
    "            s2 = self.getProcessedScreen()\n",
    "            self.currentScreen = s2\n",
    "            return s2 - s1\n",
    "\n",
    "# Image Processing for the Neural network\n",
    "\n",
    "    def screenHeight(self):\n",
    "        screen = self.getProcessedScreen()\n",
    "        return screen.shape[2]\n",
    "    \n",
    "    def screenWidth(self):\n",
    "        screen = self.getProcessedScreen()\n",
    "        return screen.shape[3]\n",
    "    \n",
    "    def getProcessedScreen(self):\n",
    "        screen = self.render('rgb_array').transpose((2,0,1))\n",
    "        screen = self.cropScreen(screen)\n",
    "        return self.transformScreenData(screen)\n",
    "    \n",
    "    def cropScreen(self, screen):\n",
    "        screenHeight = screen.shape[1]\n",
    "        \n",
    "        top = int(screenHeight * 0.4)\n",
    "        bottom = int(screenHeight * 0.8)\n",
    "        screen = screen[:, top:bottom, :]\n",
    "        return screen\n",
    "    \n",
    "    def transformScreenData(self, screen):\n",
    "        screen = np.ascontiguousarray(screen, dtype = np.float32) / 255\n",
    "        screen = torch.from_numpy(screen)\n",
    "        \n",
    "        resize = T.Compose([\n",
    "            T.ToPILImage(),\n",
    "            T.Resize((40,90)),\n",
    "            T.ToTensor()\n",
    "        ])\n",
    "        \n",
    "        return resize(screen).unsqueeze(0).to(self.device)"
   ]
  },
  {
   "cell_type": "markdown",
   "id": "5d87b5cd-960d-4e6b-bebb-9504a03eb471",
   "metadata": {},
   "source": [
    "# Example of Screen that is not Processed"
   ]
  },
  {
   "cell_type": "code",
   "execution_count": 10,
   "id": "f571b44d-b765-45c1-bfd7-cf41c6bb36cd",
   "metadata": {},
   "outputs": [
    {
     "data": {
      "text/plain": [
       "<function matplotlib.pyplot.show(close=None, block=None)>"
      ]
     },
     "execution_count": 10,
     "metadata": {},
     "output_type": "execute_result"
    },
    {
     "data": {
      "image/png": "[encoded data removed]",
      "text/plain": [
       "<Figure size 432x288 with 1 Axes>"
      ]
     },
     "metadata": {
      "needs_background": "light"
     },
     "output_type": "display_data"
    }
   ],
   "source": [
    "device = torch.device(\"cpu\")\n",
    "trY = CartPoleEnvManager(device)\n",
    "trY.reset()\n",
    "screen = trY.render('rgb_array')\n",
    "\n",
    "plt.figure()\n",
    "plt.imshow(screen)\n",
    "plt.title(\"Non-Processed Screen\")\n",
    "plt.show"
   ]
  },
  {
   "cell_type": "markdown",
   "id": "51fb8c19-85ee-44ac-b9d9-181ef20be7ef",
   "metadata": {},
   "source": [
    "# Example of Processed Screen"
   ]
  },
  {
   "cell_type": "code",
   "execution_count": 11,
   "id": "afb46121-a9af-4d66-a920-073f2205713e",
   "metadata": {},
   "outputs": [
    {
     "data": {
      "image/png": "[encoded data removed]",
      "text/plain": [
       "<Figure size 432x288 with 1 Axes>"
      ]
     },
     "metadata": {
      "needs_background": "light"
     },
     "output_type": "display_data"
    }
   ],
   "source": [
    "screen = trY.getProcessedScreen()\n",
    "\n",
    "plt.figure()\n",
    "plt.imshow(screen.squeeze(0).permute(1,2,0), interpolation = 'none')\n",
    "plt.title(\"Processed Screen\")\n",
    "plt.show()\n"
   ]
  },
  {
   "cell_type": "markdown",
   "id": "c207eb99-18e8-4e56-8c02-169e624de5c5",
   "metadata": {},
   "source": [
    "# Example of Starting State"
   ]
  },
  {
   "cell_type": "code",
   "execution_count": 12,
   "id": "dc3d166c-c8f8-421a-adc9-65c6c32f8a60",
   "metadata": {},
   "outputs": [
    {
     "data": {
      "image/png": "[encoded data removed]",
      "text/plain": [
       "<Figure size 432x288 with 1 Axes>"
      ]
     },
     "metadata": {
      "needs_background": "light"
     },
     "output_type": "display_data"
    }
   ],
   "source": [
    "screen = trY.getState()\n",
    "\n",
    "plt.figure()\n",
    "plt.imshow(screen.squeeze(0).permute(1,2,0), interpolation = 'none')\n",
    "plt.title(\"Starting State\")\n",
    "plt.show()\n"
   ]
  },
  {
   "cell_type": "markdown",
   "id": "6cf9df61-e48a-4ee2-b0ad-19e02640499e",
   "metadata": {},
   "source": [
    "# Example of Non-Starting State"
   ]
  },
  {
   "cell_type": "code",
   "execution_count": 13,
   "id": "42b7844c-b747-45db-8987-d5c122f1885b",
   "metadata": {},
   "outputs": [
    {
     "name": "stderr",
     "output_type": "stream",
     "text": [
      "/opt/anaconda3/lib/python3.8/site-packages/gym/envs/classic_control/cartpole.py:150: UserWarning: \u001b[33mWARN: You are calling 'step()' even though this environment has already returned done = True. You should always call 'reset()' once you receive 'done = True' -- any further steps are undefined behavior.\u001b[0m\n",
      "  logger.warn(\n"
     ]
    },
    {
     "data": {
      "image/png": "[encoded data removed]",
      "text/plain": [
       "<Figure size 432x288 with 1 Axes>"
      ]
     },
     "metadata": {
      "needs_background": "light"
     },
     "output_type": "display_data"
    }
   ],
   "source": [
    "for i in range(10):\n",
    "    trY.takeAction(torch.tensor([1]))\n",
    "screen = trY.getState()\n",
    "\n",
    "plt.figure()\n",
    "plt.imshow(screen.squeeze(0).permute(1,2,0), interpolation = 'none')\n",
    "plt.title(\"Non-Starting State\")\n",
    "plt.show()"
   ]
  },
  {
   "cell_type": "markdown",
   "id": "32942af8-018c-4b31-8686-431ac00616cf",
   "metadata": {},
   "source": [
    "# Plotting Graphs"
   ]
  },
  {
   "cell_type": "code",
   "execution_count": 14,
   "id": "04526d89-f850-4380-977e-357ade2d1da1",
   "metadata": {},
   "outputs": [],
   "source": [
    "def plotIT(values, movingAveragePeriod):\n",
    "    plt.figure(2)\n",
    "    plt.clf()\n",
    "    plt.title(\"...Training...\")\n",
    "    plt.xlabel(\"Episode\")\n",
    "    plt.ylabel(\"Duration\")\n",
    "    plt.plot(values)\n",
    "    movingAverage = getMovingAverage(movingAveragePeriod, values)\n",
    "    plt.plot(movingAverage) \n",
    "    plt.pause(0.001)\n",
    "    print(\"Episode\", len(values), \"\\n\", \\\n",
    "    movingAveragePeriod, \"episode moving avg:\", movingAverage[-1])\n",
    "    if isIPython: display.clear_output(wait=True)\n",
    "        \n",
    "def getMovingAverage(period, values):\n",
    "    values = torch.tensor(values, dtype=torch.float)\n",
    "    if len(values) >= period:\n",
    "        movingAverage = values.unfold(dimension=0, size=period, step=1).mean(dim=1).flatten(start_dim=0)\n",
    "        movingAverage = torch.cat((torch.zeros(period-1), movingAverage))\n",
    "        return movingAverage.numpy()\n",
    "    else:\n",
    "        movingAverage = torch.zeros(len(values))\n",
    "        return movingAverage.numpy()"
   ]
  },
  {
   "cell_type": "code",
   "execution_count": 15,
   "id": "63fef937-f540-45d4-b385-4f80747dba5f",
   "metadata": {},
   "outputs": [
    {
     "data": {
      "image/png": "[encoded data removed]",
      "text/plain": [
       "<Figure size 432x288 with 1 Axes>"
      ]
     },
     "metadata": {
      "needs_background": "light"
     },
     "output_type": "display_data"
    },
    {
     "name": "stdout",
     "output_type": "stream",
     "text": [
      "Episode 300 \n",
      " 100 episode moving avg: 0.48082513\n"
     ]
    }
   ],
   "source": [
    "plotIT(np.random.rand(300), 100)"
   ]
  },
  {
   "cell_type": "markdown",
   "id": "5fa1bfdc-9472-4dbb-9360-ddca755ba5a0",
   "metadata": {},
   "source": [
    "# Tensor Processing"
   ]
  },
  {
   "cell_type": "code",
   "execution_count": 16,
   "id": "dc373a1e-5f49-42ce-bc59-ca84b57397de",
   "metadata": {},
   "outputs": [],
   "source": [
    "def extractTensors(experiences):\n",
    "    batch = Experience(*zip(*experiences))\n",
    "    \n",
    "    t1 = torch.cat(batch.state)\n",
    "    t2 = torch.cat(batch.action)\n",
    "    t3 = torch.cat(batch.reward)\n",
    "    t4 = torch.cat(batch.nextState)\n",
    "    \n",
    "    return (t1,t2,t3,t4)    "
   ]
  },
  {
   "cell_type": "markdown",
   "id": "125c2c9a-4ac3-4d4c-99ad-2ba83ea45748",
   "metadata": {},
   "source": [
    "# Q-Value Calculator"
   ]
  },
  {
   "cell_type": "code",
   "execution_count": 17,
   "id": "9f5ea42c-550f-4591-8c2e-2d74f432de1d",
   "metadata": {},
   "outputs": [],
   "source": [
    "class QValues():\n",
    "    device = torch.device(\"cpu\")\n",
    "    \n",
    "    def get_current(policy_net, states, actions):\n",
    "        return policy_net(states).gather(dim=1, index=actions.unsqueeze(-1))\n",
    "    \n",
    "    def get_next(target_net, next_states):                \n",
    "        final_state_locations = next_states.flatten(start_dim=1) \\\n",
    "            .max(dim=1)[0].eq(0).type(torch.bool)\n",
    "        non_final_state_locations = (final_state_locations == False)\n",
    "        non_final_states = next_states[non_final_state_locations]\n",
    "        batch_size = next_states.shape[0]\n",
    "        values = torch.zeros(batch_size).to(QValues.device)\n",
    "        values[non_final_state_locations] = target_net(non_final_states).max(dim=1)[0].detach()\n",
    "        return values"
   ]
  },
  {
   "cell_type": "markdown",
   "id": "c37fe7db-94e7-424e-8930-0fc2b7ff5d28",
   "metadata": {},
   "source": [
    "# MAIN PROGRAM"
   ]
  },
  {
   "cell_type": "code",
   "execution_count": null,
   "id": "58e1752e-3d03-4f58-8954-196b9173dd27",
   "metadata": {},
   "outputs": [
    {
     "data": {
      "image/png": "[encoded data removed]",
      "text/plain": [
       "<Figure size 432x288 with 1 Axes>"
      ]
     },
     "metadata": {
      "needs_background": "light"
     },
     "output_type": "display_data"
    },
    {
     "name": "stdout",
     "output_type": "stream",
     "text": [
      "Episode 155 \n",
      " 100 episode moving avg: 20.72\n"
     ]
    }
   ],
   "source": [
    "batchSize = 256\n",
    "gamma = 0.999\n",
    "epsStart = 1\n",
    "epsEnd = 0.01\n",
    "epsDecay = 0.001\n",
    "targetUpdate = 10\n",
    "memorySize = 100000\n",
    "learningRate = 0.001\n",
    "numEpisodes = 1000\n",
    "\n",
    "devicE = torch.device(\"cpu\")\n",
    "em = CartPoleEnvManager(devicE)\n",
    "strategy = EpsilonGreedyStrategy(epsStart,epsEnd,epsDecay)\n",
    "agent = Agent(strategy, em.numActionsAvailable(), devicE)\n",
    "memory = ReplayMemory(memorySize)\n",
    "\n",
    "policyNet = DQN(em.screenHeight(), em.screenWidth()).to(devicE)\n",
    "targetNet = DQN(em.screenHeight(), em.screenWidth()).to(devicE)\n",
    "targetNet.load_state_dict(policyNet.state_dict())\n",
    "targetNet.eval()\n",
    "optimizer = optim.Adam(params = policyNet.parameters(), lr=learningRate)\n",
    "\n",
    "episodeDurations = []\n",
    "\n",
    "for episode in range(numEpisodes):\n",
    "    em.reset()\n",
    "    state = em.getState()\n",
    "    \n",
    "    for timestep in count():\n",
    "        action = agent.selectAction(state, policyNet)\n",
    "        reward = em.takeAction(action)\n",
    "        nextState = em.getState()\n",
    "        memory.push(Experience(state, action, nextState, reward))\n",
    "        state = nextState\n",
    "        \n",
    "        if memory.canProvideSample(batchSize):\n",
    "            experiences = memory.sample(batchSize)\n",
    "            states, actions, rewards, nextStates = extractTensors(experiences)\n",
    "            \n",
    "            currentQValues = QValues.get_current(policyNet, states, actions)\n",
    "            nextQValues = QValues.get_next(targetNet, nextStates)\n",
    "            targetQValues = (nextQValues * gamma) + rewards\n",
    "            \n",
    "            loss = F.mse_loss(currentQValues, targetQValues.unsqueeze(1))\n",
    "            optimizer.zero_grad()\n",
    "            loss.backward()\n",
    "            optimizer.step()\n",
    "            \n",
    "        if em.done:\n",
    "            episodeDurations.append(timestep)\n",
    "            plotIT(episodeDurations, 100)\n",
    "            break\n",
    "            \n",
    "    if episode % targetUpdate == 0:\n",
    "        targetNet.load_state_dict(policyNet.state_dict())\n",
    "        \n",
    "em.close()"
   ]
  },
  {
   "cell_type": "code",
   "execution_count": null,
   "id": "61ce6d37-78d6-42b2-8be7-1d674271941c",
   "metadata": {},
   "outputs": [],
   "source": []
  }
 ],
 "metadata": {
  "kernelspec": {
   "display_name": "Python 3",
   "language": "python",
   "name": "python3"
  },
  "language_info": {
   "codemirror_mode": {
    "name": "ipython",
    "version": 3
   },
   "file_extension": ".py",
   "mimetype": "text/x-python",
   "name": "python",
   "nbconvert_exporter": "python",
   "pygments_lexer": "ipython3",
   "version": "3.8.8"
  }
 },
 "nbformat": 4,
 "nbformat_minor": 5
}
